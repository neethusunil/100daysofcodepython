{
  "nbformat": 4,
  "nbformat_minor": 0,
  "metadata": {
    "colab": {
      "name": "Custom Evaluation.ipynb",
      "provenance": [],
      "authorship_tag": "ABX9TyN15mIi5sAYrJ/qZUkcttye",
      "include_colab_link": true
    },
    "kernelspec": {
      "name": "python3",
      "display_name": "Python 3"
    },
    "language_info": {
      "name": "python"
    }
  },
  "cells": [
    {
      "cell_type": "markdown",
      "metadata": {
        "id": "view-in-github",
        "colab_type": "text"
      },
      "source": [
        "<a href=\"https://colab.research.google.com/github/neethusunil/100daysofcodepython/blob/master/notebook/Custom_Evaluation.ipynb\" target=\"_parent\"><img src=\"https://colab.research.google.com/assets/colab-badge.svg\" alt=\"Open In Colab\"/></a>"
      ]
    },
    {
      "cell_type": "code",
      "source": [
        "import re\n",
        "import math\n",
        "import numpy as np\n",
        "from scipy.spatial.distance import euclidean\n",
        "from difflib import SequenceMatcher\n",
        "import numpy as np\n",
        "from numpy.linalg import norm\n",
        "from scipy import spatial\n",
        "from math import *\n",
        "from decimal import Decimal\n",
        "import nltk\n",
        "from nltk.translate.bleu_score import sentence_bleu"
      ],
      "metadata": {
        "id": "aamwuobSiuIs"
      },
      "execution_count": 11,
      "outputs": []
    },
    {
      "cell_type": "code",
      "source": [
        "actual = \"startseq 1x接種x0 91xCUTx0 96xHx4520 97xHx94660 98xHx37660 99xHx14400 100xZx1000 105xWx2660 106xWMx0 111xHx25460 112xHx27820 113xHx14440 115xHx3660 116xZx0 118xWx0 123xHx11460 124xHx43680 125xHx46180 126xHx15040 127xHx7280 128xHx560 130xZx0 132xHx30 133xWx0 137xHx1120 138xHx19840 139xHx30380 140xHx16740 141xHx5780 142xHx760 148x廃棄x40 endseq\"\n",
        "predicted = \"startseq 1x接種x0 91xCUTx0 96xHx4520 97xHx94660 98xHx37660 99xHx14400 100xZx1000 105xWx2660 106xWMx0 111xHx25460 112xHx27820 113xHx14440 115xHx3660 116xZx0 118xWx0 123xHx11460 124xHx43680 125xHx46180 126xHx15040 133xHx1940 131xWx0 132xWMx0 142xHx10800 130xHx3760 136xHx9340 134xHx9600 147x廃棄x1320 endseq\""
      ],
      "metadata": {
        "id": "tLm63uDlix0z"
      },
      "execution_count": 12,
      "outputs": []
    },
    {
      "cell_type": "code",
      "source": [
        "def find_yield(seq):\n",
        "    seq.split() #split the sequence based on space\n",
        "    pattern = \"(?<=x)\\d+\" #regex expression\n",
        "    sp = re.findall(pattern, seq) #print all the yield values\n",
        "    sp = [int(i) for i in sp] #converted string to array\n",
        "    return sp\n",
        "\n",
        "def find_day(seq):\n",
        "  seq.split()\n",
        "  pattern = \"(\\d+)x\"\n",
        "  sp = re.findall(pattern,seq)\n",
        "  sp = [int(i) for i in sp]\n",
        "  return sp\n",
        "\n",
        "\n",
        "def day_count(act,pred):\n",
        "    print(act)\n",
        "    x=act.split()\n",
        "    y=pred.split()\n",
        "    def day_no(z):\n",
        "        if '廃棄' in z[-2]: #end day work or waste\n",
        "            end_day = re.findall(r\"(\\d+)x\", z[-2])\n",
        "            end_day = int(end_day[0])\n",
        "            return end_day\n",
        "    \n",
        "    act = day_no(x)\n",
        "    pred = day_no(y)\n",
        "    \n",
        "    days = {\"Actual\": act,\n",
        "          \"Predicted\": pred,\n",
        "          \"Difference\": abs(act - pred)\n",
        "          }\n",
        "    return days\n",
        "\n",
        "def work_count(act,pred):\n",
        "  act = act.split()\n",
        "  pred = pred.split()\n",
        "  act = len(act) - 2\n",
        "  pred = len(pred) -2\n",
        "  count =  {\"Actual\": act,\n",
        "          \"Predicted\": pred,\n",
        "          \"Difference\": abs(act - pred)\n",
        "          }\n",
        "\n",
        "  return count\n",
        "\n",
        "def work_day(seq):\n",
        "  pattern = \"(?<=x)\\d+\"\n",
        "  ans=re.sub(pattern,'',seq)\n",
        "  ans=ans.split()\n",
        "  ans.remove('startseq')\n",
        "  ans.remove('endseq')\n",
        "  ans = [x[:-1] for x in ans] #remove 'x' in the end of all the elements\n",
        "  return ans\n",
        "\n",
        "def work_yield(seq):\n",
        "  \n",
        "  seq.split()\n",
        "  pattern = '[^x]*x\\d+'#\n",
        "  sp=re.findall(pattern,seq)\n",
        "  return sp\n",
        "\n",
        "\n",
        "def similar(a,b):                      #similarity in nlp using sequence matcher\n",
        "  return SequenceMatcher(None, a, b).ratio()\n",
        "\n",
        "# Function distance between two points\n",
        "# and calculate distance value to given\n",
        "# root value(p is root value)\n",
        "def p_root(value, root):\n",
        "  root_value = 1 / float(root)\n",
        "  val = round (Decimal(value) ** Decimal(root_value), 3)\n",
        "  return val\n",
        "\n",
        "def minkowski_distance(x, y, p_value):\n",
        "  # pass the p_root function to calculate\n",
        "  # all the value of vector parallelly\n",
        "  return (p_root(sum(pow(abs(a-b), p_value)\n",
        "      for a, b in zip(x, y)), p_value))\n",
        "    \n",
        "def jaccard_similarity(x,y):\n",
        "  \"\"\" returns the jaccard similarity between two lists \"\"\"\n",
        "  intersection_cardinality = len(set.intersection(*[set(x), set(y)]))\n",
        "  union_cardinality = len(set.union(*[set(x), set(y)]))\n",
        "  return intersection_cardinality/float(union_cardinality)\n",
        "\n",
        "\n"
      ],
      "metadata": {
        "id": "pTqxQ_qdi3BE"
      },
      "execution_count": 13,
      "outputs": []
    },
    {
      "cell_type": "code",
      "source": [
        "def custom_eval():\n",
        "    inp = find_yield(actual)\n",
        "    out = find_yield(predicted)\n",
        "    day_in = find_day(actual)\n",
        "    day_out = find_day(predicted)\n",
        "    p=3\n",
        "    summary = { \n",
        "        # \"Actual Yield Values\":inp,\n",
        "        # \"Predicted Yield Values\":out,\n",
        "        \"Number of Days\": day_count(actual,predicted),\n",
        "        \"Work Entries\": work_count(actual,predicted),\n",
        "        \"Difference in total yield Value\":abs(sum(inp)-sum(out)),\n",
        "        \"Similarity Score:\":similar(actual,predicted),\n",
        "        \"Jaccard Similarity \": jaccard_similarity(actual, predicted),\n",
        "        \"Jaccard Similarity for yield values\": jaccard_similarity(inp, out),\n",
        "        \"Jaccard Similarity for day values\": jaccard_similarity(day_in, day_out),\n",
        "        \"Minkowski b/w Yield Values \":minkowski_distance(inp, out, p),        \n",
        "        \"Minkowski b/w Day Values \":minkowski_distance(day_in, day_out, p),\n",
        "        \"Sentence Bleu Score Work x Day\": sentence_bleu([work_day(actual)],work_day(predicted)),\n",
        "        \"Sentence Bleu Score Work x Yield\": sentence_bleu([work_yield(actual)],work_yield(predicted))   \n",
        "        \n",
        "        \n",
        "    }\n",
        "    return(summary)"
      ],
      "metadata": {
        "id": "uvLFLcWxi5gh"
      },
      "execution_count": 14,
      "outputs": []
    },
    {
      "cell_type": "code",
      "source": [
        "custom_eval()"
      ],
      "metadata": {
        "colab": {
          "base_uri": "https://localhost:8080/"
        },
        "id": "nFQkvxOAi7ag",
        "outputId": "bbba9f40-7861-4cfd-b3a3-e19da510ee93"
      },
      "execution_count": 15,
      "outputs": [
        {
          "output_type": "stream",
          "name": "stdout",
          "text": [
            "startseq 1x接種x0 91xCUTx0 96xHx4520 97xHx94660 98xHx37660 99xHx14400 100xZx1000 105xWx2660 106xWMx0 111xHx25460 112xHx27820 113xHx14440 115xHx3660 116xZx0 118xWx0 123xHx11460 124xHx43680 125xHx46180 126xHx15040 127xHx7280 128xHx560 130xZx0 132xHx30 133xWx0 137xHx1120 138xHx19840 139xHx30380 140xHx16740 141xHx5780 142xHx760 148x廃棄x40 endseq\n"
          ]
        },
        {
          "output_type": "execute_result",
          "data": {
            "text/plain": [
              "{'Number of Days': {'Actual': 148, 'Predicted': 147, 'Difference': 1},\n",
              " 'Work Entries': {'Actual': 31, 'Predicted': 27, 'Difference': 4},\n",
              " 'Difference in total yield Value': 45770,\n",
              " 'Similarity Score:': 0.6957878315132605,\n",
              " 'Jaccard Similarity ': 1.0,\n",
              " 'Jaccard Similarity for yield values': 0.4838709677419355,\n",
              " 'Jaccard Similarity for day values': 0.6571428571428571,\n",
              " 'Minkowski b/w Yield Values ': Decimal('30229.608'),\n",
              " 'Minkowski b/w Day Values ': Decimal('12.287'),\n",
              " 'Sentence Bleu Score Work x Day': 0.5987642155325291,\n",
              " 'Sentence Bleu Score Work x Yield': 0.5987642155325291}"
            ]
          },
          "metadata": {},
          "execution_count": 15
        }
      ]
    }
  ]
}